{
 "cells": [
  {
   "cell_type": "markdown",
   "metadata": {},
   "source": [
    "# Descoberta e Extração de Conhecimento de Dados (DECD)\n",
    "\n",
    "Materiais de apoio à componente prática da disciplina de Descoberta e Extração de Conhecimento de Dados (DECD) da Licenciatura em Informática e Gestão de Empresas do ISCTE - Instituto Universitário de Lisboa.\n",
    "\n",
    "Os materiais foram traduzidos e adaptados dos materiais da disciplina de [Computação para Economia e Ciências Empresariais](https://github.com/fmmb/CEB) e do [Python Data Science Handbook: Essential Tools for Working with Data](https://jakevdp.github.io/PythonDataScienceHandbook/).\n",
    "\n",
    "Por favor enviem comentários e seguestões para `ricardo.ribeiro@iscte-iul.pt` e/ou `eugenio.alves.ribeiro@iscte-iul.pt`.\n",
    "\n",
    "----"
   ]
  },
  {
   "cell_type": "markdown",
   "metadata": {},
   "source": [
    "## Conteúdo\n",
    "\n",
    "1. [Introdução à linguagem Python](./notebooks/01-python.ipynb)\n",
    "2. [NumPy](./notebooks/02-numpy.ipynb)\n",
    "3. [matplotlib & seaborn](./notebooks/03-plotting.ipynb)\n"
   ]
  },
  {
   "cell_type": "markdown",
   "metadata": {},
   "source": [
    "## Recursos Adicionais\n",
    "\n",
    "- [Python Data Science Handbook: Essential Tools for Working with Data](https://jakevdp.github.io/PythonDataScienceHandbook/)\n",
    "- [The Python Tutorial](https://docs.python.org/3/tutorial/index.html)\n",
    "- [Pandas Exercises, Practice, Solution](https://www.w3resource.com/python-exercises/pandas/index.php)"
   ]
  },
  {
   "cell_type": "code",
   "execution_count": null,
   "metadata": {},
   "outputs": [],
   "source": []
  }
 ],
 "metadata": {
  "kernelspec": {
   "display_name": "Python 3 (ipykernel)",
   "language": "python",
   "name": "python3"
  },
  "language_info": {
   "codemirror_mode": {
    "name": "ipython",
    "version": 3
   },
   "file_extension": ".py",
   "mimetype": "text/x-python",
   "name": "python",
   "nbconvert_exporter": "python",
   "pygments_lexer": "ipython3",
   "version": "3.10.10"
  }
 },
 "nbformat": 4,
 "nbformat_minor": 4
}
