{
 "cells": [
  {
   "cell_type": "markdown",
   "metadata": {
    "slideshow": {
     "slide_type": "slide"
    }
   },
   "source": [
    "# Introdução à linguagem Python\n",
    "\n",
    "Criada por Guido van Rossum em 1991, Python é uma linguagem de programação de alto nível, reconhecida pela sua simplicidade, clareza e facilidade de aprendizagem. Com uma ampla coleção de módulos e ferramentas associadas, Python é uma linguagem versátil e poderosa, ideal para quer para iniciantes, quer para profissionais em diversas áreas da computação. Atualmente é uma das linguagens de programação mais populares do mundo, especialmente em comunidades dedicadas à aprendizagem automática."
   ]
  },
  {
   "cell_type": "markdown",
   "metadata": {
    "slideshow": {
     "slide_type": "subslide"
    }
   },
   "source": [
    "## Exemplos"
   ]
  },
  {
   "cell_type": "markdown",
   "metadata": {},
   "source": [
    "### Olá mundo!"
   ]
  },
  {
   "cell_type": "code",
   "execution_count": 81,
   "metadata": {},
   "outputs": [
    {
     "name": "stdout",
     "output_type": "stream",
     "text": [
      "Hello World!\n"
     ]
    }
   ],
   "source": [
    "print('Hello World!')"
   ]
  },
  {
   "cell_type": "markdown",
   "metadata": {},
   "source": [
    "### Cálculo da média"
   ]
  },
  {
   "cell_type": "code",
   "execution_count": 25,
   "metadata": {},
   "outputs": [
    {
     "data": {
      "text/plain": [
       "14.0"
      ]
     },
     "execution_count": 25,
     "metadata": {},
     "output_type": "execute_result"
    }
   ],
   "source": [
    "numbers = [10, 7, 22, 14, 17]\n",
    "\n",
    "total = 0.0\n",
    "n = 0.0\n",
    "for val in numbers:\n",
    "    total = total + val\n",
    "    n += 1\n",
    "\n",
    "total / n"
   ]
  },
  {
   "cell_type": "markdown",
   "metadata": {},
   "source": [
    "Ou..."
   ]
  },
  {
   "cell_type": "code",
   "execution_count": 26,
   "metadata": {},
   "outputs": [
    {
     "data": {
      "text/plain": [
       "14.0"
      ]
     },
     "execution_count": 26,
     "metadata": {},
     "output_type": "execute_result"
    }
   ],
   "source": [
    "numbers = [10, 7, 22, 14, 17]\n",
    "\n",
    "sum(numbers) / len(numbers)"
   ]
  },
  {
   "cell_type": "markdown",
   "metadata": {
    "slideshow": {
     "slide_type": "slide"
    },
    "tags": []
   },
   "source": [
    "## Tipos\n",
    "\n",
    "Em Python, os tipos das variáveis não têm de ser declarados explicitamente. O sistema de tipos é dinâmico, ou seja, valores de tipos diferentes podem ser atribuídos à mesma variável ao longo da execução do programa. Isto oferece flexibilidade, mas também requer atenção por parte do programador ao lidar com diferentes tipos de dados para evitar erros durante a execução do código. Existem casos em que é possível explicitar o tipo esperado de algumas variáveis, no entanto, a não ser que sejam usadas ferramentas externas, essa informação serve apenas para tornar o código mais claro."
   ]
  },
  {
   "cell_type": "markdown",
   "metadata": {},
   "source": [
    "### Tipos básicos\n",
    "\n",
    "- [Números](#Números) ([inteiros](#Inteiros) e [vírgula flutuante](#Vírgula-flutuante))\n",
    "- [Booleanos](#Booleanos)\n",
    "- [Cadeias de caracteres](#Cadeias-de-caracteres)\n",
    "- [Listas](#Listas), [Tuplos](#Tuplos) e [Conjuntos](#Conjuntos)\n",
    "- [Dicionários](#Dicionários)\n",
    "- [Tipo nulo](#Tipo-nulo)"
   ]
  },
  {
   "cell_type": "markdown",
   "metadata": {
    "slideshow": {
     "slide_type": "subslide"
    }
   },
   "source": [
    "### Números"
   ]
  },
  {
   "cell_type": "markdown",
   "metadata": {},
   "source": [
    "#### Inteiros"
   ]
  },
  {
   "cell_type": "code",
   "execution_count": 6,
   "metadata": {},
   "outputs": [
    {
     "data": {
      "text/plain": [
       "7"
      ]
     },
     "execution_count": 6,
     "metadata": {},
     "output_type": "execute_result"
    }
   ],
   "source": [
    "a = 1\n",
    "b = 2\n",
    "c = 3\n",
    "a + b * c"
   ]
  },
  {
   "cell_type": "markdown",
   "metadata": {
    "slideshow": {
     "slide_type": "fragment"
    }
   },
   "source": [
    "#### Vírgula flutuante"
   ]
  },
  {
   "cell_type": "code",
   "execution_count": 10,
   "metadata": {},
   "outputs": [
    {
     "data": {
      "text/plain": [
       "1.0025"
      ]
     },
     "execution_count": 10,
     "metadata": {},
     "output_type": "execute_result"
    }
   ],
   "source": [
    "a = 1.0\n",
    "b = 2.5\n",
    "c = 1e-3\n",
    "\n",
    "a + b * c"
   ]
  },
  {
   "cell_type": "markdown",
   "metadata": {
    "slideshow": {
     "slide_type": "subslide"
    },
    "tags": []
   },
   "source": [
    "#### Mistura de tipos numéricos\n",
    "\n",
    "O resultado de uma operação numérica que involva vírgula flutuante é um número de vírgula flutuante:"
   ]
  },
  {
   "cell_type": "code",
   "execution_count": 21,
   "metadata": {
    "tags": []
   },
   "outputs": [
    {
     "data": {
      "text/plain": [
       "8.0"
      ]
     },
     "execution_count": 21,
     "metadata": {},
     "output_type": "execute_result"
    }
   ],
   "source": [
    "a = 2\n",
    "b = 2.0\n",
    "c = 3\n",
    "\n",
    "a + b * c"
   ]
  },
  {
   "cell_type": "markdown",
   "metadata": {},
   "source": [
    "A não ser que a operação não seja válida:"
   ]
  },
  {
   "cell_type": "code",
   "execution_count": 24,
   "metadata": {},
   "outputs": [
    {
     "ename": "ZeroDivisionError",
     "evalue": "float division by zero",
     "output_type": "error",
     "traceback": [
      "\u001b[0;31m---------------------------------------------------------------------------\u001b[0m",
      "\u001b[0;31mZeroDivisionError\u001b[0m                         Traceback (most recent call last)",
      "Cell \u001b[0;32mIn[24], line 1\u001b[0m\n\u001b[0;32m----> 1\u001b[0m \u001b[38;5;241;43m1.0\u001b[39;49m\u001b[43m \u001b[49m\u001b[38;5;241;43m/\u001b[39;49m\u001b[43m \u001b[49m\u001b[38;5;241;43m0\u001b[39;49m\n",
      "\u001b[0;31mZeroDivisionError\u001b[0m: float division by zero"
     ]
    }
   ],
   "source": [
    "1.0 / 0"
   ]
  },
  {
   "cell_type": "markdown",
   "metadata": {
    "slideshow": {
     "slide_type": "subslide"
    }
   },
   "source": [
    "#### Conversão de tipos numéricos"
   ]
  },
  {
   "cell_type": "code",
   "execution_count": 29,
   "metadata": {},
   "outputs": [
    {
     "data": {
      "text/plain": [
       "10.0"
      ]
     },
     "execution_count": 29,
     "metadata": {},
     "output_type": "execute_result"
    }
   ],
   "source": [
    "float(10)"
   ]
  },
  {
   "cell_type": "code",
   "execution_count": 30,
   "metadata": {},
   "outputs": [
    {
     "data": {
      "text/plain": [
       "3"
      ]
     },
     "execution_count": 30,
     "metadata": {},
     "output_type": "execute_result"
    }
   ],
   "source": [
    "int(3.3)"
   ]
  },
  {
   "cell_type": "markdown",
   "metadata": {},
   "source": [
    "**Nota**: A conversão de números de vírgula flutuante em inteiros é feita por truncamento e não por arrendondamento."
   ]
  },
  {
   "cell_type": "code",
   "execution_count": 32,
   "metadata": {},
   "outputs": [
    {
     "data": {
      "text/plain": [
       "3"
      ]
     },
     "execution_count": 32,
     "metadata": {},
     "output_type": "execute_result"
    }
   ],
   "source": [
    "int(3.7)"
   ]
  },
  {
   "cell_type": "code",
   "execution_count": 33,
   "metadata": {},
   "outputs": [
    {
     "data": {
      "text/plain": [
       "4"
      ]
     },
     "execution_count": 33,
     "metadata": {},
     "output_type": "execute_result"
    }
   ],
   "source": [
    "round(3.7)"
   ]
  },
  {
   "cell_type": "markdown",
   "metadata": {
    "slideshow": {
     "slide_type": "subslide"
    }
   },
   "source": [
    "#### Operações\n",
    "\n",
    "- Adição: `a + b`\n",
    "- Subtração: `a - b`\n",
    "- Multiplicação: `a * b`\n",
    "- Potência: `a ** b`\n",
    "- Menos unário: `-a`\n",
    "\n",
    "Então e a divisão?\n",
    "\n",
    "Existem dois tipos:\n",
    "\n",
    "- Vírgula flutuante: `a / b`\n",
    "- Inteira: `a // b`\n",
    "- Resto da divisão inteira: `a % b`"
   ]
  },
  {
   "cell_type": "code",
   "execution_count": 38,
   "metadata": {},
   "outputs": [
    {
     "name": "stdout",
     "output_type": "stream",
     "text": [
      "3.3333333333333335\n",
      "3\n",
      "1\n",
      "3.0\n",
      "3.0\n"
     ]
    }
   ],
   "source": [
    "a = 10\n",
    "b = 3\n",
    "c = 9\n",
    "\n",
    "print(a / b)\n",
    "print(a // b)\n",
    "print(a % b)\n",
    "\n",
    "print(c / b)\n",
    "print(a // float(b))"
   ]
  },
  {
   "cell_type": "markdown",
   "metadata": {},
   "source": [
    "### Booleanos\n",
    "\n",
    "Em Python os valores verdadeiro e falso são representados pelos booleanos `True` e `False`."
   ]
  },
  {
   "cell_type": "code",
   "execution_count": 131,
   "metadata": {},
   "outputs": [
    {
     "data": {
      "text/plain": [
       "True"
      ]
     },
     "execution_count": 131,
     "metadata": {},
     "output_type": "execute_result"
    }
   ],
   "source": [
    "True"
   ]
  },
  {
   "cell_type": "code",
   "execution_count": 132,
   "metadata": {},
   "outputs": [
    {
     "data": {
      "text/plain": [
       "False"
      ]
     },
     "execution_count": 132,
     "metadata": {},
     "output_type": "execute_result"
    }
   ],
   "source": [
    "False"
   ]
  },
  {
   "cell_type": "markdown",
   "metadata": {
    "slideshow": {
     "slide_type": "subslide"
    }
   },
   "source": [
    "### Cadeias de caracteres\n",
    "\n",
    "Em Python, as cadeias de caracteres são delimitadas por `'` ou `\"`:"
   ]
  },
  {
   "cell_type": "code",
   "execution_count": 52,
   "metadata": {},
   "outputs": [
    {
     "name": "stdout",
     "output_type": "stream",
     "text": [
      "John Doe\n"
     ]
    }
   ],
   "source": [
    "first = 'John'\n",
    "last = \"Doe\"\n",
    "\n",
    "print(first, last)"
   ]
  },
  {
   "cell_type": "markdown",
   "metadata": {},
   "source": [
    "Estas cadeias de caracteres têm de estar contidas numa única linha."
   ]
  },
  {
   "cell_type": "code",
   "execution_count": 54,
   "metadata": {},
   "outputs": [
    {
     "ename": "SyntaxError",
     "evalue": "unterminated string literal (detected at line 1) (349293886.py, line 1)",
     "output_type": "error",
     "traceback": [
      "\u001b[0;36m  Cell \u001b[0;32mIn[54], line 1\u001b[0;36m\u001b[0m\n\u001b[0;31m    lines = 'Two\u001b[0m\n\u001b[0m            ^\u001b[0m\n\u001b[0;31mSyntaxError\u001b[0m\u001b[0;31m:\u001b[0m unterminated string literal (detected at line 1)\n"
     ]
    }
   ],
   "source": [
    "lines = 'Two\n",
    "        lines'"
   ]
  },
  {
   "cell_type": "markdown",
   "metadata": {},
   "source": [
    "Os caracteres especiais (incluindo a mudança de linha) devem ser introduzidos usando sequências de escape (ex: `\\n`)."
   ]
  },
  {
   "cell_type": "code",
   "execution_count": 56,
   "metadata": {},
   "outputs": [
    {
     "name": "stdout",
     "output_type": "stream",
     "text": [
      "Two\n",
      "\tlines\n"
     ]
    }
   ],
   "source": [
    "lines = 'Two\\n\\tlines'\n",
    "print(lines)"
   ]
  },
  {
   "cell_type": "markdown",
   "metadata": {},
   "source": [
    "Alternativamente, cadeias de caracteres longas podem ser delimitadas por `'''`. Neste caso, os caracteres especiais podem ser usados diretamente."
   ]
  },
  {
   "cell_type": "code",
   "execution_count": 70,
   "metadata": {},
   "outputs": [],
   "source": [
    "long = '''This is a long string.\n",
    "It can have multiple lines.\n",
    "\n",
    "\tAnd other special characters.'''"
   ]
  },
  {
   "cell_type": "code",
   "execution_count": 71,
   "metadata": {},
   "outputs": [
    {
     "data": {
      "text/plain": [
       "'This is a long string.\\nIt can have multiple lines.\\n\\n\\tAnd other special characters.'"
      ]
     },
     "execution_count": 71,
     "metadata": {},
     "output_type": "execute_result"
    }
   ],
   "source": [
    "long"
   ]
  },
  {
   "cell_type": "code",
   "execution_count": 72,
   "metadata": {},
   "outputs": [
    {
     "name": "stdout",
     "output_type": "stream",
     "text": [
      "This is a long string.\n",
      "It can have multiple lines.\n",
      "\n",
      "\tAnd other special characters.\n"
     ]
    }
   ],
   "source": [
    "print(long)"
   ]
  },
  {
   "cell_type": "markdown",
   "metadata": {},
   "source": [
    "#### Acesso a partes de uma cadeia de caracteres"
   ]
  },
  {
   "cell_type": "markdown",
   "metadata": {},
   "source": [
    "Para aceder a caracteres específicos ou subcadeias, podemos usar o operador de indexação `[]`"
   ]
  },
  {
   "cell_type": "code",
   "execution_count": 82,
   "metadata": {},
   "outputs": [
    {
     "name": "stdout",
     "output_type": "stream",
     "text": [
      "S\n",
      "Str\n",
      "g\n",
      "ng\n"
     ]
    }
   ],
   "source": [
    "string = 'String'\n",
    "\n",
    "print(string[0])      # gets the first char\n",
    "print(string[0:3])    # gets chars from 0 to 2\n",
    "print(string[-1])     # gets the last char\n",
    "print(string[-2:])    # gets the last 2 chars"
   ]
  },
  {
   "cell_type": "markdown",
   "metadata": {},
   "source": [
    "**Nota**: As cadeias de caracteres são **imutáveis**. Isto é, não podem ser alteradas diretamente."
   ]
  },
  {
   "cell_type": "code",
   "execution_count": 83,
   "metadata": {},
   "outputs": [
    {
     "ename": "TypeError",
     "evalue": "'str' object does not support item assignment",
     "output_type": "error",
     "traceback": [
      "\u001b[0;31m---------------------------------------------------------------------------\u001b[0m",
      "\u001b[0;31mTypeError\u001b[0m                                 Traceback (most recent call last)",
      "Cell \u001b[0;32mIn[83], line 1\u001b[0m\n\u001b[0;32m----> 1\u001b[0m \u001b[43mstring\u001b[49m\u001b[43m[\u001b[49m\u001b[38;5;241;43m1\u001b[39;49m\u001b[43m]\u001b[49m \u001b[38;5;241m=\u001b[39m \u001b[38;5;124m'\u001b[39m\u001b[38;5;124mp\u001b[39m\u001b[38;5;124m'\u001b[39m\n",
      "\u001b[0;31mTypeError\u001b[0m: 'str' object does not support item assignment"
     ]
    }
   ],
   "source": [
    "string[1] = 'p'"
   ]
  },
  {
   "cell_type": "markdown",
   "metadata": {},
   "source": [
    "Na prática, as alterações a cadeias de caracteres são feitas através da criação de novas cadeias."
   ]
  },
  {
   "cell_type": "code",
   "execution_count": 84,
   "metadata": {},
   "outputs": [
    {
     "name": "stdout",
     "output_type": "stream",
     "text": [
      "Spring\n"
     ]
    }
   ],
   "source": [
    "string = string[0] + 'p' + string[2:]\n",
    "print(string)"
   ]
  },
  {
   "cell_type": "markdown",
   "metadata": {},
   "source": [
    "#### Operações sobre cadeias de caracteres\n",
    "\n",
    "Uma cadeia de caracteres é uma sequência, como tal, muitas das funções (e operadores) que podem ser aplicadas a outras sequências (ex: [listas](#listas)), podem também ser aplicadas a cadeias de caracteres. Um exemplo é o operador de indexação visto anteriormente. Outros exemplos importantes são a função `len`, que calcula o comprimento da cadeia de caracteres, e o operador `in` que pode ser usado para verificar se uma determinada cadeia de caracteres é uma subsequência de outra cadeia. "
   ]
  },
  {
   "cell_type": "code",
   "execution_count": 106,
   "metadata": {},
   "outputs": [
    {
     "data": {
      "text/plain": [
       "6"
      ]
     },
     "execution_count": 106,
     "metadata": {},
     "output_type": "execute_result"
    }
   ],
   "source": [
    "len('string')"
   ]
  },
  {
   "cell_type": "code",
   "execution_count": 107,
   "metadata": {},
   "outputs": [
    {
     "data": {
      "text/plain": [
       "True"
      ]
     },
     "execution_count": 107,
     "metadata": {},
     "output_type": "execute_result"
    }
   ],
   "source": [
    "'ing' in 'string'"
   ]
  },
  {
   "cell_type": "code",
   "execution_count": 108,
   "metadata": {},
   "outputs": [
    {
     "data": {
      "text/plain": [
       "False"
      ]
     },
     "execution_count": 108,
     "metadata": {},
     "output_type": "execute_result"
    }
   ],
   "source": [
    "'int' in 'string'"
   ]
  },
  {
   "cell_type": "markdown",
   "metadata": {},
   "source": [
    "Para além disso, a classe que representa as cadeias de caracteres em Python (`str`) define um conjunto de métodos úteis. Por exemplo:\n",
    "\n",
    "- `replace`\n",
    "- `lower`\n",
    "- `isnumeric`\n",
    "- `startswith`\n",
    "- `endswith`\n",
    "- `count`\n",
    "- `split`\n",
    "\n",
    "Em Python, os métodos são invocados usando a sintaxe `<objeto>.<método>(<argumentos>)`"
   ]
  },
  {
   "cell_type": "code",
   "execution_count": 243,
   "metadata": {},
   "outputs": [
    {
     "name": "stdout",
     "output_type": "stream",
     "text": [
      "This is a spring.\n",
      "this is a string.\n",
      "False\n",
      "True\n",
      "True\n",
      "3\n",
      "['This', 'is', 'a', 'string.']\n"
     ]
    }
   ],
   "source": [
    "string = 'This is a string.'\n",
    "\n",
    "print(string.replace('t', 'p'))\n",
    "print(string.lower())\n",
    "print(string.isnumeric())\n",
    "print(string.startswith('Th'))\n",
    "print(string.endswith('.'))\n",
    "print(string.count('s'))\n",
    "print(string.split())"
   ]
  },
  {
   "cell_type": "markdown",
   "metadata": {},
   "source": [
    "**Nota**: No contexto de um notebook como este, é possível adicionar `?` no final do nome de um método ou objeto para obter alguma ajuda."
   ]
  },
  {
   "cell_type": "code",
   "execution_count": 128,
   "metadata": {},
   "outputs": [
    {
     "data": {
      "text/plain": [
       "\u001b[0;31mType:\u001b[0m        str\n",
       "\u001b[0;31mString form:\u001b[0m This is a string.\n",
       "\u001b[0;31mLength:\u001b[0m      17\n",
       "\u001b[0;31mDocstring:\u001b[0m  \n",
       "str(object='') -> str\n",
       "str(bytes_or_buffer[, encoding[, errors]]) -> str\n",
       "\n",
       "Create a new string object from the given object. If encoding or\n",
       "errors is specified, then the object must expose a data buffer\n",
       "that will be decoded using the given encoding and error handler.\n",
       "Otherwise, returns the result of object.__str__() (if defined)\n",
       "or repr(object).\n",
       "encoding defaults to sys.getdefaultencoding().\n",
       "errors defaults to 'strict'."
      ]
     },
     "metadata": {},
     "output_type": "display_data"
    }
   ],
   "source": [
    "string?"
   ]
  },
  {
   "cell_type": "code",
   "execution_count": 129,
   "metadata": {},
   "outputs": [
    {
     "data": {
      "text/plain": [
       "\u001b[0;31mSignature:\u001b[0m \u001b[0mstring\u001b[0m\u001b[0;34m.\u001b[0m\u001b[0mreplace\u001b[0m\u001b[0;34m(\u001b[0m\u001b[0mold\u001b[0m\u001b[0;34m,\u001b[0m \u001b[0mnew\u001b[0m\u001b[0;34m,\u001b[0m \u001b[0mcount\u001b[0m\u001b[0;34m=\u001b[0m\u001b[0;34m-\u001b[0m\u001b[0;36m1\u001b[0m\u001b[0;34m,\u001b[0m \u001b[0;34m/\u001b[0m\u001b[0;34m)\u001b[0m\u001b[0;34m\u001b[0m\u001b[0;34m\u001b[0m\u001b[0m\n",
       "\u001b[0;31mDocstring:\u001b[0m\n",
       "Return a copy with all occurrences of substring old replaced by new.\n",
       "\n",
       "  count\n",
       "    Maximum number of occurrences to replace.\n",
       "    -1 (the default value) means replace all occurrences.\n",
       "\n",
       "If the optional argument count is given, only the first count occurrences are\n",
       "replaced.\n",
       "\u001b[0;31mType:\u001b[0m      builtin_function_or_method"
      ]
     },
     "metadata": {},
     "output_type": "display_data"
    }
   ],
   "source": [
    "string.replace?"
   ]
  },
  {
   "cell_type": "code",
   "execution_count": 130,
   "metadata": {},
   "outputs": [
    {
     "data": {
      "text/plain": [
       "\u001b[0;31mSignature:\u001b[0m \u001b[0mlen\u001b[0m\u001b[0;34m(\u001b[0m\u001b[0mobj\u001b[0m\u001b[0;34m,\u001b[0m \u001b[0;34m/\u001b[0m\u001b[0;34m)\u001b[0m\u001b[0;34m\u001b[0m\u001b[0;34m\u001b[0m\u001b[0m\n",
       "\u001b[0;31mDocstring:\u001b[0m Return the number of items in a container.\n",
       "\u001b[0;31mType:\u001b[0m      builtin_function_or_method"
      ]
     },
     "metadata": {},
     "output_type": "display_data"
    }
   ],
   "source": [
    "len?"
   ]
  },
  {
   "cell_type": "markdown",
   "metadata": {
    "slideshow": {
     "slide_type": "subslide"
    }
   },
   "source": [
    "#### Formatação de cadeias de caracteres\n",
    "\n",
    "Uma formatação adequada de cadeias de caracteres é relevante quando se quer apresentar texto ao utilizador, de forma a que este seja mais preciso e legível. Para além disso, em Python, os métodos de formatação de cadeias de caracteres podem também ser utilizados para preencher templates textuais com informação dada por expressões.\n",
    "\n",
    "A formatação de cadeias de caracteres pode ser feita usando o método `format` ou utilizando a sintaxe `f'string'`."
   ]
  },
  {
   "cell_type": "code",
   "execution_count": 183,
   "metadata": {},
   "outputs": [
    {
     "name": "stdout",
     "output_type": "stream",
     "text": [
      "x = 1, x + y = 4.0\n",
      "x = 1, x + y = 4.0\n"
     ]
    }
   ],
   "source": [
    "x = 1\n",
    "y = 3.0\n",
    "print('x = {}, x + y = {}'.format(x, x + y))\n",
    "print(f'x = {x}, x + y = {x + y}')"
   ]
  },
  {
   "cell_type": "markdown",
   "metadata": {},
   "source": [
    "Quando é usado o método `format`, pode também ser indicada a posição ou o identificador do argumento pretendido em cada campo."
   ]
  },
  {
   "cell_type": "code",
   "execution_count": 190,
   "metadata": {},
   "outputs": [
    {
     "name": "stdout",
     "output_type": "stream",
     "text": [
      "My name is Bond, James Bond.\n",
      "My name is Bond, James Bond.\n"
     ]
    }
   ],
   "source": [
    "first = 'James'\n",
    "last = 'Bond'\n",
    "\n",
    "print('My name is {1}, {0} {1}.'.format(first, last))\n",
    "print('My name is {last}, {first} {last}.'.format(first=first, last=last))"
   ]
  },
  {
   "cell_type": "markdown",
   "metadata": {},
   "source": [
    "Como demonstrado nos exemplos anteriores, se não for dada nenhuma indicação relativamente à formatação de um determinado campo, é utilizada a representação textual predefinida para o tipo do argumento. Para explicitar a formatação esperada, é usada a sintaxe `{:<format>}`. Há muitas [opções de formatação](https://docs.python.org/3/library/string.html#grammar-token-format-spec-format_spec), como por exemplo:\n",
    "\n",
    "- Espaço ocupado\n",
    "- Alinhamento\n",
    "- Base numérica\n",
    "- Casas decimais\n",
    "- Notação científica"
   ]
  },
  {
   "cell_type": "code",
   "execution_count": 225,
   "metadata": {},
   "outputs": [
    {
     "name": "stdout",
     "output_type": "stream",
     "text": [
      "| string     |        255 | 0.3333333333333333\n",
      "|     string |    255     | 0.3333333333333333\n",
      "| string0000 | 0000000255 | 0.3333333333333333\n",
      "255.00 0.33\n",
      "ff\n",
      "3.333333e-01\n",
      "25,500\n"
     ]
    }
   ],
   "source": [
    "x = 255\n",
    "f = 1/3\n",
    "s = 'string'\n",
    "\n",
    "print(f'| {s:10} | {x:10} | {f:10}') # Each field has a minimum width of 10 characters. The default alignment depends on the type of the argument.\n",
    "print(f'| {s:>10} | {x:^10} | {f:<10}') # Specifying the alignment\n",
    "print(f'| {s:010} | {x:010} | {f:010}') # Use 0s to fill the space\n",
    "print(f'{x:.2f} {f:.2f}') # Represent the numeric values as floats with 2 decimal places\n",
    "print(f'{x:x}') # Hexadecimal base\n",
    "print(f'{f:e}') # Scientific notation\n",
    "print(f'{x*100:,}') # Thousands separator"
   ]
  },
  {
   "cell_type": "markdown",
   "metadata": {},
   "source": [
    "**Nota**: É possível combinar múltiplas opções de formatação."
   ]
  },
  {
   "cell_type": "code",
   "execution_count": 230,
   "metadata": {},
   "outputs": [
    {
     "data": {
      "text/plain": [
       "'N: 00000000000000013.00'"
      ]
     },
     "execution_count": 230,
     "metadata": {},
     "output_type": "execute_result"
    }
   ],
   "source": [
    "n = 13\n",
    "f'N: {x:>020,.2f}'"
   ]
  },
  {
   "cell_type": "markdown",
   "metadata": {
    "slideshow": {
     "slide_type": "subslide"
    }
   },
   "source": [
    "### Listas\n",
    "\n",
    "Em Python, uma lista é definida usando parênteses retos `[]`, sendo os seus elementos separados por vírgulas. Os elementos das listas podem ser de qualquer tipo, incluindo outras listas."
   ]
  },
  {
   "cell_type": "code",
   "execution_count": 239,
   "metadata": {},
   "outputs": [],
   "source": [
    "nlst = [1, 2, 3, 4]\n",
    "vlst = [1, 3.3, 'hello']\n",
    "llst = [[1, 2], [5, 6, 0]]"
   ]
  },
  {
   "cell_type": "markdown",
   "metadata": {},
   "source": [
    "Tal como as [cadeias de caracteres](#Operações-sobre-cadeias-de-caracteres), as listas são sequências. Logo, é possível aceder aos seus elementos usando o operador de indexação `[]` e calcular o seu comprimento usando a funçåo `len`. Podemos também verificar se a lista contem um determinado elemento usando o operador `in`. Para além disso, se os elementos da lista forem todos numéricos, a sua soma pode ser calculada usando a função `sum`."
   ]
  },
  {
   "cell_type": "code",
   "execution_count": 246,
   "metadata": {},
   "outputs": [
    {
     "name": "stdout",
     "output_type": "stream",
     "text": [
      "1\n",
      "[1, 3.3]\n",
      "[5, 6, 0]\n",
      "4\n",
      "True\n",
      "10\n"
     ]
    }
   ],
   "source": [
    "print(nlst[0])\n",
    "print(vlst[:2])\n",
    "print(llst[-1])\n",
    "print(len(nlst))\n",
    "print('hello' in vlst)\n",
    "print(sum(nlst))"
   ]
  },
  {
   "cell_type": "markdown",
   "metadata": {},
   "source": [
    "Ao contrário das cadeias de caracteres, as listas são mutáveis, ou seja, podem ser alteradas. Por exemplo, é possível atribuir um novo valor a uma determinada posição:"
   ]
  },
  {
   "cell_type": "code",
   "execution_count": 244,
   "metadata": {},
   "outputs": [
    {
     "name": "stdout",
     "output_type": "stream",
     "text": [
      "[1, 4, 3]\n"
     ]
    }
   ],
   "source": [
    "lst = [1, 2, 3]\n",
    "lst[1] = 4\n",
    "print(lst)"
   ]
  },
  {
   "cell_type": "markdown",
   "metadata": {},
   "source": [
    "A classe `list` também define um conjunto de métodos úteis. Por exemplo:\n",
    "\n",
    "- `append`\n",
    "- `insert`\n",
    "- `remove`\n",
    "- `sort`\n",
    "- `reverse`"
   ]
  },
  {
   "cell_type": "code",
   "execution_count": 253,
   "metadata": {},
   "outputs": [
    {
     "name": "stdout",
     "output_type": "stream",
     "text": [
      "[1, 2, 3, 'hello']\n",
      "[1, 10, 2, 3, 'hello']\n",
      "[1, 10, 2, 3]\n",
      "[3, 2, 10, 1]\n",
      "[1, 2, 3, 10]\n"
     ]
    }
   ],
   "source": [
    "lst = [1, 2, 3]\n",
    "\n",
    "lst.append('hello')\n",
    "print(lst)\n",
    "\n",
    "lst.insert(1, 10)\n",
    "print(lst)\n",
    "\n",
    "lst.remove('hello')\n",
    "print(lst)\n",
    "\n",
    "lst.reverse()\n",
    "print(lst)\n",
    "\n",
    "lst.sort()\n",
    "print(lst)"
   ]
  },
  {
   "cell_type": "markdown",
   "metadata": {},
   "source": [
    "**Nota**: Para usar o método `sort`, é necessário que os elementos da lista sejam comparáveis."
   ]
  },
  {
   "cell_type": "code",
   "execution_count": 254,
   "metadata": {},
   "outputs": [
    {
     "ename": "TypeError",
     "evalue": "'<' not supported between instances of 'str' and 'int'",
     "output_type": "error",
     "traceback": [
      "\u001b[0;31m---------------------------------------------------------------------------\u001b[0m",
      "\u001b[0;31mTypeError\u001b[0m                                 Traceback (most recent call last)",
      "Cell \u001b[0;32mIn[254], line 2\u001b[0m\n\u001b[1;32m      1\u001b[0m lst \u001b[38;5;241m=\u001b[39m [\u001b[38;5;241m1\u001b[39m, \u001b[38;5;124m'\u001b[39m\u001b[38;5;124mhello\u001b[39m\u001b[38;5;124m'\u001b[39m, \u001b[38;5;241m3\u001b[39m]\n\u001b[0;32m----> 2\u001b[0m \u001b[43mlst\u001b[49m\u001b[38;5;241;43m.\u001b[39;49m\u001b[43msort\u001b[49m\u001b[43m(\u001b[49m\u001b[43m)\u001b[49m\n",
      "\u001b[0;31mTypeError\u001b[0m: '<' not supported between instances of 'str' and 'int'"
     ]
    }
   ],
   "source": [
    "lst = [1, 'hello', 3]\n",
    "lst.sort()"
   ]
  },
  {
   "cell_type": "markdown",
   "metadata": {},
   "source": [
    "O operador `+` pode ser usado para concatenar duas listas:"
   ]
  },
  {
   "cell_type": "code",
   "execution_count": 258,
   "metadata": {},
   "outputs": [
    {
     "data": {
      "text/plain": [
       "[1, 2, 3, 4, 5, 6]"
      ]
     },
     "execution_count": 258,
     "metadata": {},
     "output_type": "execute_result"
    }
   ],
   "source": [
    "[1, 2, 3] + [4, 5, 6]"
   ]
  },
  {
   "cell_type": "markdown",
   "metadata": {},
   "source": [
    "Como a maioria dos métodos sobre listas são destrutivos, pode ser necessário fazer uma cópia da lista original. Tal pode ser feito usando o método `copy`."
   ]
  },
  {
   "cell_type": "code",
   "execution_count": 259,
   "metadata": {
    "slideshow": {
     "slide_type": "subslide"
    }
   },
   "outputs": [
    {
     "name": "stdout",
     "output_type": "stream",
     "text": [
      "[1, 4, 3]\n",
      "[1, 2, 3]\n"
     ]
    }
   ],
   "source": [
    "lst = [1,2,3]\n",
    "\n",
    "lst2 = lst\n",
    "\n",
    "cp = lst.copy()\n",
    "\n",
    "lst2[1] = 4\n",
    "\n",
    "print(lst)\n",
    "print(cp)"
   ]
  },
  {
   "cell_type": "markdown",
   "metadata": {},
   "source": [
    "**Nota**: O método `copy` é superficial, isto é, não é feita uma cópia dos elementos internos da lista."
   ]
  },
  {
   "cell_type": "code",
   "execution_count": 266,
   "metadata": {},
   "outputs": [
    {
     "name": "stdout",
     "output_type": "stream",
     "text": [
      "[5, [3, 2, 3], 4]\n",
      "[1, [3, 2, 3], 4]\n"
     ]
    }
   ],
   "source": [
    "lst = [1, [1, 2, 3], 4]\n",
    "\n",
    "cp = lst.copy()\n",
    "\n",
    "lst[0] = 5 # This will not be reflected in the copy\n",
    "lst[1][0] = 3 # But this will\n",
    "\n",
    "print(lst)\n",
    "print(cp)"
   ]
  },
  {
   "cell_type": "markdown",
   "metadata": {
    "slideshow": {
     "slide_type": "subslide"
    }
   },
   "source": [
    "### Tuplos\n",
    "\n",
    "Tuplos são como [listas](#Listas), mas **imutáveis**. Em Python, podem ser definidos apenas separando os seus elementos por vírgulas, ou então de forma semelhante às listas, mas usando parênteses curvos `()`."
   ]
  },
  {
   "cell_type": "code",
   "execution_count": 274,
   "metadata": {},
   "outputs": [
    {
     "name": "stdout",
     "output_type": "stream",
     "text": [
      "(1, 2, 3.0, 'hello')\n",
      "(4, 5)\n"
     ]
    }
   ],
   "source": [
    "tpl = 1, 2, 3.0, \"hello\"\n",
    "tpl2 = (4, 5)\n",
    "\n",
    "print(tpl)\n",
    "print(tpl2)"
   ]
  },
  {
   "cell_type": "markdown",
   "metadata": {},
   "source": [
    "**Nota**: Tuplos vazios ou com apenas um elemento são casos especiais."
   ]
  },
  {
   "cell_type": "code",
   "execution_count": 275,
   "metadata": {},
   "outputs": [
    {
     "name": "stdout",
     "output_type": "stream",
     "text": [
      "()\n",
      "(1,)\n",
      "(2,)\n"
     ]
    }
   ],
   "source": [
    "empty = ()\n",
    "singleton = 1,\n",
    "singleton2 = (2,)\n",
    "\n",
    "print(empty)\n",
    "print(singleton)\n",
    "print(singleton2)"
   ]
  },
  {
   "cell_type": "markdown",
   "metadata": {},
   "source": [
    "Os elementos de um tuplo podem ser acedidos da mesma forma que os de uma lista:"
   ]
  },
  {
   "cell_type": "code",
   "execution_count": 276,
   "metadata": {},
   "outputs": [
    {
     "name": "stdout",
     "output_type": "stream",
     "text": [
      "1\n",
      "(2, 3.0)\n",
      "hello\n"
     ]
    }
   ],
   "source": [
    "tpl = 1, 2, 3.0, \"hello\"\n",
    "\n",
    "print(tpl[0])\n",
    "print(tpl[1:3])\n",
    "print(tpl[-1])"
   ]
  },
  {
   "cell_type": "markdown",
   "metadata": {},
   "source": [
    "No entanto, como os tuplos são imutáveis, não é possível alterá-los:"
   ]
  },
  {
   "cell_type": "code",
   "execution_count": 277,
   "metadata": {},
   "outputs": [
    {
     "ename": "TypeError",
     "evalue": "'tuple' object does not support item assignment",
     "output_type": "error",
     "traceback": [
      "\u001b[0;31m---------------------------------------------------------------------------\u001b[0m",
      "\u001b[0;31mTypeError\u001b[0m                                 Traceback (most recent call last)",
      "Cell \u001b[0;32mIn[277], line 1\u001b[0m\n\u001b[0;32m----> 1\u001b[0m \u001b[43mtpl\u001b[49m\u001b[43m[\u001b[49m\u001b[38;5;241;43m0\u001b[39;49m\u001b[43m]\u001b[49m \u001b[38;5;241m=\u001b[39m \u001b[38;5;241m1\u001b[39m\n",
      "\u001b[0;31mTypeError\u001b[0m: 'tuple' object does not support item assignment"
     ]
    }
   ],
   "source": [
    "tpl[0] = 1"
   ]
  },
  {
   "cell_type": "markdown",
   "metadata": {},
   "source": [
    "### Conjuntos\n",
    "\n",
    "Um conjunto é uma estrutura de dados semelhante a uma [lista](#Listas), mas que armazena elementos únicos sem uma ordem específica. Em Python, conjuntos podem ser definidos usando chavetas `{}`, sendo os seus elementos separados por vírgulas."
   ]
  },
  {
   "cell_type": "code",
   "execution_count": 283,
   "metadata": {},
   "outputs": [
    {
     "name": "stdout",
     "output_type": "stream",
     "text": [
      "{1, 'Mary', 3, 5}\n"
     ]
    }
   ],
   "source": [
    "ids = {1, 5, 3, 'Mary', 5}\n",
    "print(ids)"
   ]
  },
  {
   "cell_type": "markdown",
   "metadata": {},
   "source": [
    "Novos elementos podem ser adicionados a um conjunto usando o método `add`. Elementos existentes podem ser removidos usando o método `remove`."
   ]
  },
  {
   "cell_type": "code",
   "execution_count": 284,
   "metadata": {},
   "outputs": [
    {
     "name": "stdout",
     "output_type": "stream",
     "text": [
      "{1, 3, 'John', 'Mary'}\n"
     ]
    }
   ],
   "source": [
    "ids.add('John')\n",
    "ids.remove(5)\n",
    "\n",
    "print(ids)"
   ]
  },
  {
   "cell_type": "markdown",
   "metadata": {},
   "source": [
    "#### Operações\n",
    "\n",
    "- Pertenca: `x in s`\n",
    "- União: `s | k`\n",
    "- Interseção: `s & k`\n",
    "- Diferença: `s - k`"
   ]
  },
  {
   "cell_type": "code",
   "execution_count": 286,
   "metadata": {},
   "outputs": [
    {
     "name": "stdout",
     "output_type": "stream",
     "text": [
      "True\n",
      "False\n",
      "{1, 2, 3, 4, 5}\n",
      "{3}\n",
      "{1, 2}\n"
     ]
    }
   ],
   "source": [
    "s = {1, 2, 3}\n",
    "k = {3, 4, 5}\n",
    "\n",
    "print(2 in s)\n",
    "print(2 in k)\n",
    "print(s | k)\n",
    "print(s & k)\n",
    "print(s - k)"
   ]
  },
  {
   "cell_type": "markdown",
   "metadata": {
    "slideshow": {
     "slide_type": "subslide"
    }
   },
   "source": [
    "### Dicionários\n",
    "\n",
    "Um dicionário é uma estrutura de dados que permite armazenar pares chave-valor, sendo cada chave única e associada ao valor respectivo. Em Python, são definidos usando uma sintaxe semelhante à dos [conjuntos](#Conjuntos), ou seja, usando chavetas `{}`, mas em que cada elemento corresponde a um par `<chave>:<valor>`. Tal como nas [listas](#Listas), os valores de um dicionário podem ser mistos e de qualquer tipo."
   ]
  },
  {
   "cell_type": "code",
   "execution_count": 297,
   "metadata": {},
   "outputs": [
    {
     "name": "stdout",
     "output_type": "stream",
     "text": [
      "Rita's contact is rita@gmail.com\n"
     ]
    }
   ],
   "source": [
    "contacts = {\n",
    "    'Luis': 'luis@iscte-iul.pt',\n",
    "    'Rita': 'rita@gmail.com',\n",
    "    'Joana': 910000000\n",
    "}\n",
    "\n",
    "print(f\"Rita's contact is {contacts['Rita']}\")"
   ]
  },
  {
   "cell_type": "markdown",
   "metadata": {},
   "source": [
    "Como os dicionários são mutáveis, é possível adicionar novos pares chave-valor ou alterar o valor associado a uma chave existente."
   ]
  },
  {
   "cell_type": "code",
   "execution_count": 298,
   "metadata": {},
   "outputs": [
    {
     "name": "stdout",
     "output_type": "stream",
     "text": [
      "{'Luis': 'luis@iscte-iul.pt', 'Rita': 'rita@iscte-iul.pt', 'Joana': 910000000, 'Pedro': 'pedro@gmail.com'}\n"
     ]
    }
   ],
   "source": [
    "contacts['Pedro'] = 'pedro@gmail.com'  # <- add a new element\n",
    "contacts['Rita'] = 'rita@iscte-iul.pt' # <- replace an element\n",
    "\n",
    "print(contacts)"
   ]
  },
  {
   "cell_type": "markdown",
   "metadata": {},
   "source": [
    "Para remover uma entrada do dicionário pode ser utilizado o operador `del` ou o método `pop`, sendo que a segunda opção devolve o valor removido."
   ]
  },
  {
   "cell_type": "code",
   "execution_count": 299,
   "metadata": {},
   "outputs": [
    {
     "name": "stdout",
     "output_type": "stream",
     "text": [
      "{'Luis': 'luis@iscte-iul.pt', 'Rita': 'rita@iscte-iul.pt', 'Joana': 910000000}\n",
      "910000000\n",
      "{'Luis': 'luis@iscte-iul.pt', 'Rita': 'rita@iscte-iul.pt'}\n"
     ]
    }
   ],
   "source": [
    "del contacts['Pedro']\n",
    "print(contacts)\n",
    "\n",
    "joana = contacts.pop('Joana')\n",
    "print(joana)\n",
    "print(contacts)"
   ]
  },
  {
   "cell_type": "markdown",
   "metadata": {},
   "source": [
    "O operador `in` pode ser usado para verificar se uma chave existe num dicionário e a função `len` pode ser usada para contar o número de entradas. Para além disso, os métodos `keys`, `values` e `items` podem ser usados para obter listagens das chaves, valores e pares chave-valor, respectivamente."
   ]
  },
  {
   "cell_type": "code",
   "execution_count": 300,
   "metadata": {},
   "outputs": [
    {
     "name": "stdout",
     "output_type": "stream",
     "text": [
      "True\n",
      "2\n",
      "dict_keys(['Luis', 'Rita'])\n",
      "dict_values(['luis@iscte-iul.pt', 'rita@iscte-iul.pt'])\n",
      "dict_items([('Luis', 'luis@iscte-iul.pt'), ('Rita', 'rita@iscte-iul.pt')])\n"
     ]
    }
   ],
   "source": [
    "print('Rita' in contacts)\n",
    "print(len(contacts))\n",
    "print(contacts.keys())\n",
    "print(contacts.values())\n",
    "print(contacts.items())"
   ]
  },
  {
   "cell_type": "markdown",
   "metadata": {
    "slideshow": {
     "slide_type": "subslide"
    }
   },
   "source": [
    "### Tipo nulo\n",
    "\n",
    "Em Python, `None` é um objeto que representa a ausência de valor ou a falta de qualquer valor significativo. É frequentemente usado para indicar que uma variável não está associada a nenhum valor válido ou para inicializar variáveis com um valor padrão que possa ser verificado posteriormente. Para além disso é retornado por [funções](#Funções) que não têm uma instrução de retorno explícita.\n"
   ]
  },
  {
   "cell_type": "code",
   "execution_count": 92,
   "metadata": {},
   "outputs": [],
   "source": [
    "None"
   ]
  },
  {
   "cell_type": "markdown",
   "metadata": {
    "slideshow": {
     "slide_type": "slide"
    }
   },
   "source": [
    "## Estruturas de Controlo\n",
    "\n",
    "Tal como a maioria das linguagens de programação, a linguagem Python oferece um conjunto de estruturas de controlo que podem ser usadas para definir o fluxo de execução do programa. Entre estas, as mais relevantes são as condições (`if`, `elif` e `else`) e os ciclos (`while` e `for`)."
   ]
  },
  {
   "cell_type": "markdown",
   "metadata": {},
   "source": [
    "### Exemplo"
   ]
  },
  {
   "cell_type": "code",
   "execution_count": 96,
   "metadata": {},
   "outputs": [
    {
     "name": "stdout",
     "output_type": "stream",
     "text": [
      "1 is odd\n",
      "2 is even\n",
      "3 is odd\n"
     ]
    }
   ],
   "source": [
    "i = 1\n",
    "while i < 4:\n",
    "    if i % 2:\n",
    "        print(f'{i} is odd')\n",
    "    else:\n",
    "        print(f'{i} is even')\n",
    "    i += 1"
   ]
  },
  {
   "cell_type": "markdown",
   "metadata": {},
   "source": [
    "**Nota**: Ao contrário da maioria das linguagens de programação, em Python, os blocos são definidos pela indentação."
   ]
  },
  {
   "cell_type": "code",
   "execution_count": 95,
   "metadata": {},
   "outputs": [
    {
     "ename": "IndentationError",
     "evalue": "expected an indented block after 'if' statement on line 1 (3274550137.py, line 2)",
     "output_type": "error",
     "traceback": [
      "\u001b[0;36m  Cell \u001b[0;32mIn[95], line 2\u001b[0;36m\u001b[0m\n\u001b[0;31m    print('This will not work because of bad indentation.')\u001b[0m\n\u001b[0m    ^\u001b[0m\n\u001b[0;31mIndentationError\u001b[0m\u001b[0;31m:\u001b[0m expected an indented block after 'if' statement on line 1\n"
     ]
    }
   ],
   "source": [
    "if True:\n",
    "print('This will not work because of bad indentation.')"
   ]
  },
  {
   "cell_type": "markdown",
   "metadata": {
    "slideshow": {
     "slide_type": "subslide"
    }
   },
   "source": [
    "### Condições\n",
    "\n",
    "Os blocos de execução condicional em Python são definidos usando as instruções `if`, `elif` e `else`, sendo as duas últimas opcionais.\n",
    "\n",
    "```\n",
    "if <condição>:\n",
    "    <bloco>\n",
    "elif <condição>:\n",
    "    <bloco>\n",
    "else:\n",
    "    <bloco>\n",
    "```\n",
    "\n",
    "Uma condição pode ser qualquer expressão do tipo booleano. Por exemplo:\n",
    "\n",
    "- Valor booleano: `True` ou `False`\n",
    "- Comparação: `a == b`, `a != b`, `a < b`, `a >= b`\n",
    "- Pertença: `a in lst`\n",
    "- Operação lógica: `x and y`, `x or y`, `not x`"
   ]
  },
  {
   "cell_type": "code",
   "execution_count": 302,
   "metadata": {},
   "outputs": [
    {
     "name": "stdout",
     "output_type": "stream",
     "text": [
      "One good, one bad.\n"
     ]
    }
   ],
   "source": [
    "a = 2\n",
    "b = 1\n",
    "\n",
    "if a > 1 and b > 2:\n",
    "    print('Both good!')\n",
    "elif a > 1 or b > 2:\n",
    "    print('One good, one bad.')\n",
    "else:\n",
    "    print('Both bad.')"
   ]
  },
  {
   "cell_type": "code",
   "execution_count": 303,
   "metadata": {},
   "outputs": [
    {
     "name": "stdout",
     "output_type": "stream",
     "text": [
      "Jane is not coming, but Mary can answer your questions.\n",
      "Don't worry, Mark is not coming.\n"
     ]
    }
   ],
   "source": [
    "lst = ['John', 'Mary']\n",
    "\n",
    "if 'Jane' in lst:\n",
    "    print('Yes, Jane is coming!')\n",
    "elif 'Mary' in lst:\n",
    "    print('Jane is not coming, but Mary can answer your questions.')\n",
    "    \n",
    "    \n",
    "if 'Mark' not in lst:\n",
    "    print(\"Don't worry, Mark is not coming.\")"
   ]
  },
  {
   "cell_type": "markdown",
   "metadata": {
    "slideshow": {
     "slide_type": "subslide"
    }
   },
   "source": [
    "Apesar de não serem do tipo booleano, há varias coisas que podem ser avaliadas como tal e, por isso, usadas como condições. Por exemplo:\n",
    "\n",
    "- sequências (se estiverem vazias são avaliadas como `False`, caso contrário são avaliadas como `True`)\n",
    "- números (zero é avaliado como `False`, tudo o resto é avaliado como `True`)"
   ]
  },
  {
   "cell_type": "code",
   "execution_count": 304,
   "metadata": {},
   "outputs": [
    {
     "name": "stdout",
     "output_type": "stream",
     "text": [
      "Fruity\n"
     ]
    }
   ],
   "source": [
    "fruits = ['Orange', 'Apple', 'Strawberry']\n",
    "\n",
    "if fruits:\n",
    "    print('Fruity')\n",
    "else:\n",
    "    print('Nope')"
   ]
  },
  {
   "cell_type": "code",
   "execution_count": 306,
   "metadata": {},
   "outputs": [
    {
     "name": "stdin",
     "output_type": "stream",
     "text": [
      "What's your name? John\n"
     ]
    },
    {
     "name": "stdout",
     "output_type": "stream",
     "text": [
      "Nice to meet you, John!\n"
     ]
    }
   ],
   "source": [
    "name = input(\"What's your name?\")\n",
    "if name in ['Anna', 'Bob']:\n",
    "    print(f'Welcome back, {name}!')\n",
    "else:\n",
    "    print(f'Nice to meet you, {name}!')"
   ]
  },
  {
   "cell_type": "markdown",
   "metadata": {},
   "source": [
    "Em Python existe também uma expressão condicional ternária:\n",
    "\n",
    "`<expressão> if <condição> else <expressão>`"
   ]
  },
  {
   "cell_type": "code",
   "execution_count": 316,
   "metadata": {},
   "outputs": [
    {
     "name": "stdout",
     "output_type": "stream",
     "text": [
      "2 is an even number.\n"
     ]
    }
   ],
   "source": [
    "num = 2\n",
    "\n",
    "print(f\"{num} is an {'odd' if num % 2 else 'even'} number.\")"
   ]
  },
  {
   "cell_type": "markdown",
   "metadata": {
    "slideshow": {
     "slide_type": "subslide"
    }
   },
   "source": [
    "### Ciclos\n",
    "\n",
    "Os ciclos são usados para repetir um determinado bloco de código múltiplas vezes. Em Python, os ciclos mais usados são os ciclos `while` e `for`."
   ]
  },
  {
   "cell_type": "markdown",
   "metadata": {
    "slideshow": {
     "slide_type": "-"
    }
   },
   "source": [
    "#### Ciclo `while`\n",
    "\n",
    "Se não for interrompido, um ciclo `while` é repetido enquanto uma condição se mantiver. \n",
    "\n",
    "```\n",
    "while <condição>:\n",
    "    <bloco>\n",
    "```"
   ]
  },
  {
   "cell_type": "code",
   "execution_count": 310,
   "metadata": {},
   "outputs": [
    {
     "name": "stdin",
     "output_type": "stream",
     "text": [
      "Give me a name: John\n",
      "Give me a name: Mary\n",
      "Give me a name: Jane\n"
     ]
    }
   ],
   "source": [
    "names = []\n",
    "while len(names) < 3:\n",
    "    name = input('Give me a name:')\n",
    "    names.append(name)"
   ]
  },
  {
   "cell_type": "code",
   "execution_count": 312,
   "metadata": {
    "slideshow": {
     "slide_type": "subslide"
    }
   },
   "outputs": [
    {
     "name": "stdout",
     "output_type": "stream",
     "text": [
      "23 // 5 = 4\n",
      "4\n"
     ]
    }
   ],
   "source": [
    "# poor man's division\n",
    "a = 23\n",
    "b = 5\n",
    "\n",
    "c = a\n",
    "i = 0\n",
    "while c > b:\n",
    "    c -= b\n",
    "    i += 1\n",
    "    \n",
    "print(f'{a} // {b} = {i}')\n",
    "print(23 // 5)"
   ]
  },
  {
   "cell_type": "markdown",
   "metadata": {},
   "source": [
    "Um ciclo pode ser interrompido usando a instrução `break`. Para além disso, é possível saltar para a iteração seguinte usando a instrução `continue`."
   ]
  },
  {
   "cell_type": "code",
   "execution_count": 313,
   "metadata": {},
   "outputs": [
    {
     "name": "stdout",
     "output_type": "stream",
     "text": [
      "1\n",
      "4\n"
     ]
    }
   ],
   "source": [
    "lst = [2, 1, 4, 3, 6]\n",
    "i = 0\n",
    "\n",
    "while i < len(lst):\n",
    "    v = lst[i]\n",
    "    i += 1\n",
    "    \n",
    "    if v == 3:\n",
    "        break\n",
    "    elif v == 2:\n",
    "        continue\n",
    "    else:\n",
    "        print(v)\n",
    "    "
   ]
  },
  {
   "cell_type": "markdown",
   "metadata": {
    "slideshow": {
     "slide_type": "subslide"
    }
   },
   "source": [
    "#### Ciclo `for`\n",
    "\n",
    "Em Python, um ciclo `for` serve para iterar sobre uma sequência.\n",
    "\n",
    "```\n",
    "for <variável(eis)> in <sequência>:\n",
    "    <bloco>\n",
    "```"
   ]
  },
  {
   "cell_type": "code",
   "execution_count": 317,
   "metadata": {},
   "outputs": [
    {
     "name": "stdout",
     "output_type": "stream",
     "text": [
      "Rachel\n",
      "Michael\n",
      "Robert\n"
     ]
    }
   ],
   "source": [
    "students = ['Rachel', 'Michael', 'Robert']\n",
    "\n",
    "for s in students:\n",
    "    print(s)"
   ]
  },
  {
   "cell_type": "code",
   "execution_count": 322,
   "metadata": {},
   "outputs": [
    {
     "name": "stdout",
     "output_type": "stream",
     "text": [
      "Rachel: \t18\n",
      "Michael: \t10\n",
      "Robert: \t15\n"
     ]
    }
   ],
   "source": [
    "grades = {'Rachel': 18, 'Michael': 10, 'Robert': 15}\n",
    "\n",
    "for s, g in grades.items():\n",
    "    print(f'{s}: \\t{g}')"
   ]
  },
  {
   "cell_type": "markdown",
   "metadata": {},
   "source": [
    "As instruções `break` e `continue` também podem ser usadas em ciclos `for`."
   ]
  },
  {
   "cell_type": "code",
   "execution_count": 324,
   "metadata": {},
   "outputs": [
    {
     "name": "stdout",
     "output_type": "stream",
     "text": [
      "1\n",
      "4\n"
     ]
    }
   ],
   "source": [
    "lst = [2, 1, 4, 3, 6]\n",
    "\n",
    "for v in lst:\n",
    "    if v == 3:\n",
    "        break\n",
    "    elif v == 2:\n",
    "        continue\n",
    "    else:\n",
    "        print(v)"
   ]
  },
  {
   "cell_type": "markdown",
   "metadata": {},
   "source": [
    "Em muitas linguagens de programação, os ciclos `for` são usados para repetir uma operação *n* vezes ou iterar sobre uma sequência de inteiros. Em Python, um comportamento semelhante pode ser obtido usando a função `range`."
   ]
  },
  {
   "cell_type": "code",
   "execution_count": 325,
   "metadata": {},
   "outputs": [
    {
     "name": "stdout",
     "output_type": "stream",
     "text": [
      "0 0\n",
      "1 1\n",
      "2 4\n",
      "3 9\n",
      "4 16\n"
     ]
    }
   ],
   "source": [
    "for i in range(5): # [0, 5[\n",
    "    print(i, i**2)"
   ]
  },
  {
   "cell_type": "code",
   "execution_count": 326,
   "metadata": {},
   "outputs": [
    {
     "name": "stdout",
     "output_type": "stream",
     "text": [
      "5 25\n",
      "6 36\n",
      "7 49\n",
      "8 64\n",
      "9 81\n"
     ]
    }
   ],
   "source": [
    "for i in range(5, 10): # [5, 10[\n",
    "    print(i, i**2)"
   ]
  },
  {
   "cell_type": "code",
   "execution_count": 328,
   "metadata": {},
   "outputs": [
    {
     "name": "stdout",
     "output_type": "stream",
     "text": [
      "10 100\n",
      "12 144\n",
      "14 196\n",
      "16 256\n",
      "18 324\n"
     ]
    }
   ],
   "source": [
    "for i in range(10, 20, 2): # [10, 20[ in steps of 2\n",
    "    print(i, i**2)"
   ]
  },
  {
   "cell_type": "markdown",
   "metadata": {},
   "source": [
    "Em Python, existe também uma operação, chamada compreensão de lista, que pode ser usada para iterar sobre uma sequência e gerar uma nova sequência:\n",
    "\n",
    "`<expressão> for <variável(eis)> in <sequência> [if <condição>]`"
   ]
  },
  {
   "cell_type": "code",
   "execution_count": 330,
   "metadata": {},
   "outputs": [
    {
     "data": {
      "text/plain": [
       "[0, 1, 4, 9, 16]"
      ]
     },
     "execution_count": 330,
     "metadata": {},
     "output_type": "execute_result"
    }
   ],
   "source": [
    "[x**2 for x in range(5)] "
   ]
  },
  {
   "cell_type": "code",
   "execution_count": 332,
   "metadata": {},
   "outputs": [
    {
     "data": {
      "text/plain": [
       "{1: 1, 3: 9}"
      ]
     },
     "execution_count": 332,
     "metadata": {},
     "output_type": "execute_result"
    }
   ],
   "source": [
    "{x: x**2 for x in range(5) if x % 2} "
   ]
  },
  {
   "cell_type": "markdown",
   "metadata": {
    "slideshow": {
     "slide_type": "slide"
    }
   },
   "source": [
    "## Funções\n",
    "\n",
    "Em Python, funções são definidas usando a seguinte sintaxe:\n",
    "\n",
    "```\n",
    "def <nome>(<argumentos>):\n",
    "    <bloco>\n",
    "```"
   ]
  },
  {
   "cell_type": "code",
   "execution_count": 334,
   "metadata": {},
   "outputs": [],
   "source": [
    "def double(x):\n",
    "    return 2 * x\n",
    "\n",
    "def sub(x, y):\n",
    "    return x - y\n",
    "\n",
    "def smile(): # This is a procedure\n",
    "    print(':)')"
   ]
  },
  {
   "cell_type": "markdown",
   "metadata": {},
   "source": [
    "**Nota**: Neste exemplo, a função `smile` não define um valor de retorno, apenas imprime algo. Na prática, é devolvido o valor `None`. Este tipo de função costuma ser chamado *procedimento*."
   ]
  },
  {
   "cell_type": "markdown",
   "metadata": {},
   "source": [
    "Como visto anteriormente, uma função pode ser chamada usando a sintaxe `<nome>(<argumentos>)`."
   ]
  },
  {
   "cell_type": "code",
   "execution_count": 336,
   "metadata": {},
   "outputs": [
    {
     "name": "stdout",
     "output_type": "stream",
     "text": [
      ":)\n"
     ]
    },
    {
     "data": {
      "text/plain": [
       "13"
      ]
     },
     "execution_count": 336,
     "metadata": {},
     "output_type": "execute_result"
    }
   ],
   "source": [
    "smile()\n",
    "\n",
    "sub(double(10), 7)"
   ]
  },
  {
   "cell_type": "markdown",
   "metadata": {},
   "source": [
    "Ao definir uma função, é possível definir valores predefinidos para os argumentos."
   ]
  },
  {
   "cell_type": "code",
   "execution_count": 337,
   "metadata": {},
   "outputs": [
    {
     "name": "stdout",
     "output_type": "stream",
     "text": [
      "Hello Mario!\n",
      "Goodbye Mario!\n"
     ]
    }
   ],
   "source": [
    "def greet(name, greeting='Hello'):\n",
    "    print(f'{greeting} {name}!')\n",
    "    \n",
    "greet('Mario')\n",
    "greet('Mario', 'Goodbye')"
   ]
  },
  {
   "cell_type": "markdown",
   "metadata": {},
   "source": [
    "Na chamada a funções, os argumentos podem também ser referenciados por nome. Neste caso, a ordem é irrelevante, o que é muito útil para funções com um número elevado de argumentos."
   ]
  },
  {
   "cell_type": "code",
   "execution_count": 338,
   "metadata": {},
   "outputs": [
    {
     "name": "stdout",
     "output_type": "stream",
     "text": [
      "Hi Charlie!\n"
     ]
    }
   ],
   "source": [
    "greet(greeting='Hi' , name='Charlie')"
   ]
  },
  {
   "cell_type": "markdown",
   "metadata": {},
   "source": [
    "A definição de funções é um dos casos em que é possível explicitar tipos. Neste caso, dos argumentos e do valor de retorno da função."
   ]
  },
  {
   "cell_type": "code",
   "execution_count": 340,
   "metadata": {},
   "outputs": [],
   "source": [
    "def triple(x: int) -> int:\n",
    "    \"\"\"\n",
    "    Returns the triple of its argument\n",
    "    \"\"\"\n",
    "    return 3 * x"
   ]
  },
  {
   "cell_type": "markdown",
   "metadata": {},
   "source": [
    "**Nota**: Tal como referido anteriormente, a não ser que sejam usadas ferramentas externas, a informação sobre tipos serve apenas para melhorar a legibilidade do código e não é usada durante a sua execução. "
   ]
  },
  {
   "cell_type": "code",
   "execution_count": 345,
   "metadata": {},
   "outputs": [
    {
     "data": {
      "text/plain": [
       "9.0"
      ]
     },
     "execution_count": 345,
     "metadata": {},
     "output_type": "execute_result"
    }
   ],
   "source": [
    "triple(3.0)"
   ]
  },
  {
   "cell_type": "markdown",
   "metadata": {
    "slideshow": {
     "slide_type": "fragment"
    }
   },
   "source": [
    "**Nota**: O texto que acompanha a função `triple` é usado como documentação."
   ]
  },
  {
   "cell_type": "code",
   "execution_count": 346,
   "metadata": {},
   "outputs": [
    {
     "data": {
      "text/plain": [
       "\u001b[0;31mSignature:\u001b[0m \u001b[0mtriple\u001b[0m\u001b[0;34m(\u001b[0m\u001b[0mx\u001b[0m\u001b[0;34m:\u001b[0m \u001b[0mint\u001b[0m\u001b[0;34m)\u001b[0m \u001b[0;34m->\u001b[0m \u001b[0mint\u001b[0m\u001b[0;34m\u001b[0m\u001b[0;34m\u001b[0m\u001b[0m\n",
       "\u001b[0;31mDocstring:\u001b[0m Returns the triple of its argument\n",
       "\u001b[0;31mFile:\u001b[0m      /var/folders/1h/hxkqjcm15_n3g0j8xv88cp4m0000gn/T/ipykernel_17671/69327971.py\n",
       "\u001b[0;31mType:\u001b[0m      function"
      ]
     },
     "metadata": {},
     "output_type": "display_data"
    }
   ],
   "source": [
    "triple?"
   ]
  }
 ],
 "metadata": {
  "celltoolbar": "Slideshow",
  "kernelspec": {
   "display_name": "Python 3 (ipykernel)",
   "language": "python",
   "name": "python3"
  },
  "language_info": {
   "codemirror_mode": {
    "name": "ipython",
    "version": 3
   },
   "file_extension": ".py",
   "mimetype": "text/x-python",
   "name": "python",
   "nbconvert_exporter": "python",
   "pygments_lexer": "ipython3",
   "version": "3.10.10"
  },
  "rise": {
   "scroll": true
  },
  "toc-autonumbering": false,
  "toc-showtags": false,
  "widgets": {
   "state": {
    "0c2d34b168834959a416a71a175d512b": {
     "views": [
      {
       "cell_index": 168
      }
     ]
    },
    "5db507fe394f4be4a3f06fffa4929be6": {
     "views": [
      {
       "cell_index": 170
      }
     ]
    }
   },
   "version": "1.2.0"
  }
 },
 "nbformat": 4,
 "nbformat_minor": 4
}
